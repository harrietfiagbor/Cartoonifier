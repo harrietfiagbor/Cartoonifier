{
 "metadata": {
  "language_info": {
   "codemirror_mode": {
    "name": "ipython",
    "version": 3
   },
   "file_extension": ".py",
   "mimetype": "text/x-python",
   "name": "python",
   "nbconvert_exporter": "python",
   "pygments_lexer": "ipython3",
   "version": "3.8.5-final"
  },
  "orig_nbformat": 2,
  "kernelspec": {
   "name": "python385jvsc74a57bd06d46af94c2bbce495f1e668725902fa517c90b1782bcfe2fce0dd9868df553d3",
   "display_name": "Python 3.8.5 64-bit (conda)"
  }
 },
 "nbformat": 4,
 "nbformat_minor": 2,
 "cells": [
  {
   "cell_type": "code",
   "execution_count": 331,
   "metadata": {},
   "outputs": [],
   "source": [
    "import cv2\n",
    "import numpy as np\n",
    "import imageio\n",
    "import matplotlib.pyplot as plt\n",
    "import easygui"
   ]
  },
  {
   "cell_type": "code",
   "execution_count": 332,
   "metadata": {},
   "outputs": [],
   "source": [
    "import os\n",
    "import sys"
   ]
  },
  {
   "cell_type": "code",
   "execution_count": 333,
   "metadata": {},
   "outputs": [],
   "source": [
    "import tkinter as tk\n",
    "from tkinter import filedialog\n",
    "from tkinter import *\n",
    "from PIL import ImageTk, Image"
   ]
  },
  {
   "cell_type": "code",
   "execution_count": 334,
   "metadata": {},
   "outputs": [],
   "source": [
    "top=tk.Tk()\n",
    "top.geometry('400x300')\n",
    "top.title('Let us make you into a cartoon !')\n",
    "top.configure(background='white')\n",
    "label=Label(top,background='#9edee7', font=('Arial',20,'bold'))"
   ]
  },
  {
   "source": [
    "def upload():\n",
    "    imagePath = easygui.fileopenbox()\n",
    "    cartoonify(imagePath)\n"
   ],
   "cell_type": "code",
   "metadata": {},
   "execution_count": 335,
   "outputs": []
  },
  {
   "cell_type": "code",
   "execution_count": 336,
   "metadata": {},
   "outputs": [],
   "source": [
    "def cartoonify(imagePath):\n",
    "    Img = cv2.imread(imagePath)\n",
    "    Img = cv2.cvtColor(Img,cv2.COLOR_BGR2RGB)\n",
    "\n",
    "    if Img is None:\n",
    "        print(\"Can not be found. Choose an appropriate image\")\n",
    "        sys.exit()\n",
    "\n",
    "    Resize1=cv2.resize(Img, (800,330))\n",
    "\n",
    "    #convert image to grayscale\n",
    "    grayScaleImage=cv2.cvtColor(Img,cv2.COLOR_BGR2GRAY)\n",
    "    Resize2=cv2.resize(grayScaleImage, (800, 330))\n",
    "\n",
    "    #blur the image\n",
    "    #use  medianblur \n",
    "    blurredScaleImage=cv2.medianBlur(grayScaleImage, 9)\n",
    "    Resize3=cv2.resize(blurredScaleImage,  (800, 330))\n",
    "\n",
    "    #retrieving the edges of the image\n",
    "    #use the threshold technique`\n",
    "    edgeScaleImage=cv2.adaptiveThreshold(blurredScaleImage,125,cv2.ADAPTIVE_THRESH_MEAN_C,cv2.THRESH_BINARY,11,12)\n",
    "    Resize4=cv2.resize(edgeScaleImage,(800,330))\n",
    "\n",
    "    #applying bilateral filter to image\n",
    "    #adding a water paint effect\n",
    "    colorImage=cv2.bilateralFilter(Img,15, 80, 80)\n",
    "    Resize5=cv2.resize(colorImage,(800,330))\n",
    "\n",
    "    #applying cartoon effects\n",
    "    #using bitwise_and to add blackness or defined edges to water paint image\n",
    "    maskedImage=cv2.bitwise_and(colorImage,colorImage,mask=edgeScaleImage)\n",
    "    Resize6=cv2.resize(maskedImage, (960,500))\n",
    "    \n",
    "    images=[Resize1, Resize2, Resize3, Resize4, Resize5, Resize6]\n",
    "\n",
    "    fig, axes = plt.subplots(3,2, figsize=(8,8), subplot_kw={'xticks':[], 'yticks':[]}, gridspec_kw=dict(hspace=0.1, wspace=0.1))\n",
    "    for i, ax in enumerate(axes.flat):\n",
    "        ax.imshow(images[i], cmap='gray')\n",
    "\n",
    "    save1=Button(top,text='Save the cartoonized image',command=lambda:save(imagePath, Resize6))\n",
    "    save1.configure(background='#ff1493')\n",
    "    save1.pack(side=TOP, pady=60)\n",
    "\n",
    "    plt.show()\n",
    "\n",
    "\n",
    "\n",
    "    \n"
   ]
  },
  {
   "cell_type": "code",
   "execution_count": 337,
   "metadata": {},
   "outputs": [],
   "source": [
    "#saving the image\n",
    "def save(Resize6, imagePath):\n",
    "    newName=\"cartoonified image\"\n",
    "    path1=os.path.dirname(imagePath)\n",
    "    extension=os.path.splitext(imagePath)\n",
    "    path=os.path.join(path1,newName+extension)\n",
    "    cv2.imwrite(path, cv2.cvtColor(Resize6,cv2.COLOR_RGB2BGR))\n",
    "\n",
    "    text = 'image'+ newName +'saved at'+ path\n",
    "    tk.messagebox.showinfo(title='Ta da!', message = text)"
   ]
  },
  {
   "cell_type": "code",
   "execution_count": 338,
   "metadata": {},
   "outputs": [],
   "source": [
    "upload = Button(top,text='Cartoonify',padx=6,pady=4,command=upload,)\n",
    "upload.configure(background='#ff1493', font=('Arial',26,'bold'))\n",
    "upload.pack(side=TOP,pady=40)"
   ]
  },
  {
   "cell_type": "code",
   "execution_count": 339,
   "metadata": {},
   "outputs": [],
   "source": [
    "#making a save button\n"
   ]
  },
  {
   "cell_type": "code",
   "execution_count": 340,
   "metadata": {},
   "outputs": [
    {
     "output_type": "stream",
     "name": "stderr",
     "text": [
      "Exception in Tkinter callback\nTraceback (most recent call last):\n  File \"C:\\Users\\user\\anaconda3\\lib\\tkinter\\__init__.py\", line 1883, in __call__\n    return self.func(*args)\n  File \"<ipython-input-335-ec25adc496d3>\", line 3, in upload\n    cartoonify(imagePath)\n  File \"<ipython-input-336-873f87901948>\", line 3, in cartoonify\n    Img = cv2.cvtColor(Img,cv2.COLOR_BGR2RGB)\ncv2.error: OpenCV(4.5.1) C:\\Users\\appveyor\\AppData\\Local\\Temp\\1\\pip-req-build-kh7iq4w7\\opencv\\modules\\imgproc\\src\\color.cpp:182: error: (-215:Assertion failed) !_src.empty() in function 'cv::cvtColor'\n\n"
     ]
    }
   ],
   "source": [
    "top.mainloop()"
   ]
  }
 ]
}